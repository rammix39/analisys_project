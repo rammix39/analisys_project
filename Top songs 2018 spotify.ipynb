{
 "cells": [
  {
   "cell_type": "markdown",
   "id": "5f9cd2bb",
   "metadata": {},
   "source": [
    "Датасет топовых песен 2018 с сервера spotify."
   ]
  },
  {
   "cell_type": "code",
   "execution_count": 2,
   "id": "dab19159",
   "metadata": {},
   "outputs": [],
   "source": [
    "import numpy as np\n",
    "from scipy.stats import t\n",
    "from scipy.stats import norm\n",
    "import matplotlib.pyplot as plt\n",
    "from scipy import stats\n",
    "import pandas as pd\n",
    "import scipy.stats as stats\n",
    "import seaborn as sns\n",
    "sns.set_style('darkgrid')\n",
    "from scipy.stats import pearsonr\n",
    "%matplotlib inline"
   ]
  },
  {
   "cell_type": "code",
   "execution_count": 81,
   "id": "7c650b01",
   "metadata": {},
   "outputs": [
    {
     "data": {
      "text/html": [
       "<div>\n",
       "<style scoped>\n",
       "    .dataframe tbody tr th:only-of-type {\n",
       "        vertical-align: middle;\n",
       "    }\n",
       "\n",
       "    .dataframe tbody tr th {\n",
       "        vertical-align: top;\n",
       "    }\n",
       "\n",
       "    .dataframe thead th {\n",
       "        text-align: right;\n",
       "    }\n",
       "</style>\n",
       "<table border=\"1\" class=\"dataframe\">\n",
       "  <thead>\n",
       "    <tr style=\"text-align: right;\">\n",
       "      <th></th>\n",
       "      <th>id</th>\n",
       "      <th>name</th>\n",
       "      <th>artists</th>\n",
       "      <th>danceability</th>\n",
       "      <th>energy</th>\n",
       "      <th>key</th>\n",
       "      <th>loudness</th>\n",
       "      <th>mode</th>\n",
       "      <th>speechiness</th>\n",
       "      <th>acousticness</th>\n",
       "      <th>instrumentalness</th>\n",
       "      <th>liveness</th>\n",
       "      <th>valence</th>\n",
       "      <th>tempo</th>\n",
       "      <th>duration_ms</th>\n",
       "      <th>time_signature</th>\n",
       "    </tr>\n",
       "  </thead>\n",
       "  <tbody>\n",
       "    <tr>\n",
       "      <th>0</th>\n",
       "      <td>6DCZcSspjsKoFjzjrWoCd</td>\n",
       "      <td>God's Plan</td>\n",
       "      <td>Drake</td>\n",
       "      <td>0.754</td>\n",
       "      <td>0.449</td>\n",
       "      <td>7.0</td>\n",
       "      <td>-9.211</td>\n",
       "      <td>1.0</td>\n",
       "      <td>0.1090</td>\n",
       "      <td>0.0332</td>\n",
       "      <td>0.000083</td>\n",
       "      <td>0.552</td>\n",
       "      <td>0.357</td>\n",
       "      <td>77.169</td>\n",
       "      <td>198973.0</td>\n",
       "      <td>4.0</td>\n",
       "    </tr>\n",
       "    <tr>\n",
       "      <th>1</th>\n",
       "      <td>3ee8Jmje8o58CHK66QrVC</td>\n",
       "      <td>SAD!</td>\n",
       "      <td>XXXTENTACION</td>\n",
       "      <td>0.740</td>\n",
       "      <td>0.613</td>\n",
       "      <td>8.0</td>\n",
       "      <td>-4.880</td>\n",
       "      <td>1.0</td>\n",
       "      <td>0.1450</td>\n",
       "      <td>0.2580</td>\n",
       "      <td>0.003720</td>\n",
       "      <td>0.123</td>\n",
       "      <td>0.473</td>\n",
       "      <td>75.023</td>\n",
       "      <td>166606.0</td>\n",
       "      <td>4.0</td>\n",
       "    </tr>\n",
       "    <tr>\n",
       "      <th>2</th>\n",
       "      <td>0e7ipj03S05BNilyu5bRz</td>\n",
       "      <td>rockstar (feat. 21 Savage)</td>\n",
       "      <td>Post Malone</td>\n",
       "      <td>0.587</td>\n",
       "      <td>0.535</td>\n",
       "      <td>5.0</td>\n",
       "      <td>-6.090</td>\n",
       "      <td>0.0</td>\n",
       "      <td>0.0898</td>\n",
       "      <td>0.1170</td>\n",
       "      <td>0.000066</td>\n",
       "      <td>0.131</td>\n",
       "      <td>0.140</td>\n",
       "      <td>159.847</td>\n",
       "      <td>218147.0</td>\n",
       "      <td>4.0</td>\n",
       "    </tr>\n",
       "    <tr>\n",
       "      <th>3</th>\n",
       "      <td>3swc6WTsr7rl9DqQKQA55</td>\n",
       "      <td>Psycho (feat. Ty Dolla $ign)</td>\n",
       "      <td>Post Malone</td>\n",
       "      <td>0.739</td>\n",
       "      <td>0.559</td>\n",
       "      <td>8.0</td>\n",
       "      <td>-8.011</td>\n",
       "      <td>1.0</td>\n",
       "      <td>0.1170</td>\n",
       "      <td>0.5800</td>\n",
       "      <td>0.000000</td>\n",
       "      <td>0.112</td>\n",
       "      <td>0.439</td>\n",
       "      <td>140.124</td>\n",
       "      <td>221440.0</td>\n",
       "      <td>4.0</td>\n",
       "    </tr>\n",
       "    <tr>\n",
       "      <th>4</th>\n",
       "      <td>2G7V7zsVDxg1yRsu7Ew9R</td>\n",
       "      <td>In My Feelings</td>\n",
       "      <td>Drake</td>\n",
       "      <td>0.835</td>\n",
       "      <td>0.626</td>\n",
       "      <td>1.0</td>\n",
       "      <td>-5.833</td>\n",
       "      <td>1.0</td>\n",
       "      <td>0.1250</td>\n",
       "      <td>0.0589</td>\n",
       "      <td>0.000060</td>\n",
       "      <td>0.396</td>\n",
       "      <td>0.350</td>\n",
       "      <td>91.030</td>\n",
       "      <td>217925.0</td>\n",
       "      <td>4.0</td>\n",
       "    </tr>\n",
       "  </tbody>\n",
       "</table>\n",
       "</div>"
      ],
      "text/plain": [
       "                      id                          name       artists  \\\n",
       "0  6DCZcSspjsKoFjzjrWoCd                    God's Plan         Drake   \n",
       "1  3ee8Jmje8o58CHK66QrVC                          SAD!  XXXTENTACION   \n",
       "2  0e7ipj03S05BNilyu5bRz    rockstar (feat. 21 Savage)   Post Malone   \n",
       "3  3swc6WTsr7rl9DqQKQA55  Psycho (feat. Ty Dolla $ign)   Post Malone   \n",
       "4  2G7V7zsVDxg1yRsu7Ew9R                In My Feelings         Drake   \n",
       "\n",
       "   danceability  energy  key  loudness  mode  speechiness  acousticness  \\\n",
       "0         0.754   0.449  7.0    -9.211   1.0       0.1090        0.0332   \n",
       "1         0.740   0.613  8.0    -4.880   1.0       0.1450        0.2580   \n",
       "2         0.587   0.535  5.0    -6.090   0.0       0.0898        0.1170   \n",
       "3         0.739   0.559  8.0    -8.011   1.0       0.1170        0.5800   \n",
       "4         0.835   0.626  1.0    -5.833   1.0       0.1250        0.0589   \n",
       "\n",
       "   instrumentalness  liveness  valence    tempo  duration_ms  time_signature  \n",
       "0          0.000083     0.552    0.357   77.169     198973.0             4.0  \n",
       "1          0.003720     0.123    0.473   75.023     166606.0             4.0  \n",
       "2          0.000066     0.131    0.140  159.847     218147.0             4.0  \n",
       "3          0.000000     0.112    0.439  140.124     221440.0             4.0  \n",
       "4          0.000060     0.396    0.350   91.030     217925.0             4.0  "
      ]
     },
     "execution_count": 81,
     "metadata": {},
     "output_type": "execute_result"
    }
   ],
   "source": [
    "data = pd.read_csv('C:/Games/Test/top2018.csv')\n",
    "data.head()"
   ]
  },
  {
   "cell_type": "markdown",
   "id": "a895ce5a",
   "metadata": {},
   "source": [
    "Из данных мы имеем:\n",
    "* **idSpotify** - id песни\n",
    "* **name** - название песни\n",
    "* **artists** - исполнитель\n",
    "* **danceability** - означает насколько подходит музыка для танцев (основано на анализетаких музыкальных элементов как tempo, rhythm stability, beat strength, и overall regularity ) 0 означает что трек не подходит для танцев, 1 - что очень подходит.\n",
    "* **energy** - значение от 0 до 1. Насколько интенсивная по энергетике. Например, death metal будет иметь 1 в качестве значения, музыка Баха - 0. Для анализа этой переменной используются такие данные, как dynamic range, perceived loudness, timbre, onset rate, и general entropy.\n",
    "* **key** - ключ, означает высотный класс. E.g. 0 = C, 1 = C♯/D♭, 2 = D, and so on.\n",
    "* **loudness** - насколько громкая (децибелы). Гомкость усреднена по всему треку. Значения от  -60 до 0 db.\n",
    "* **mode** -  показывает наклонение трека (мажор или минор), наклоне́ние в теории музыки — отличительные свойства терцового аккорда, звукоряда, тонального лада, которыми обусловливается их принадлежность к мажору или минору. Мажор представлен 1, минор 0.\n",
    "* **speechiness** - обнаруживает, есть ли слова в песне. Чем больше слов в песне, чем больше значение к 1. Значение больше 0.66 означает, что трек полностью состоит из слов. Значения между 0.33 и 0.66 означает, что скорее всего трек содержит музыку + речь (рэп, например). Значение меньше 0.33 означает просто музыку. \n",
    "* **acousticness** - значение между 0 и 1. 1 - показывает насколько музыка акустична. \n",
    "* **instrumentalness** - показывает сколько в музыке вокала. \"Ooh\" и \"aah\" звуки считаются вокалом. Рэп или чтение стихов тоже вокал. Чем ближе значение к 1, тем больше вероятность, что трек не содержит вокала.  Значение больше 0.5 показывает инструментальный трек, но вероятность выше если значение приближается к 1.\n",
    "* **liveness** - показывает присутствие аудитории в музыке (живое исполнение трека). Чем выше значение, тем больше вероятность, что трек исполнен вживую. Значение больше 0.8 показывает высокую вероятность живого исполнения. \n",
    "* **valence** - значение от 0 до 1 показывает позитивность трека. Треки с высоким значением valence означают позитивную музыку (счастливая, бодрящая), музыка с низким значением показывает грустную эмоциональность мелодии (злость, негатив). \n",
    "* **tempo** - темп музыки (скорость исполнения музыки) - бит в минуту (BPM). \n",
    "* **duration_ms** - сколько длится музыка в миллисекундах. \n",
    "* **time_signature** - тактовый размер в музыке — количественная характеристика тактового метра, указывающая число долей в такте\n"
   ]
  },
  {
   "cell_type": "markdown",
   "id": "0c77d3d8",
   "metadata": {},
   "source": [
    "Посмотрим стандартные статистические параметры"
   ]
  },
  {
   "cell_type": "code",
   "execution_count": 4,
   "id": "e51164c9",
   "metadata": {},
   "outputs": [
    {
     "data": {
      "text/html": [
       "<div>\n",
       "<style scoped>\n",
       "    .dataframe tbody tr th:only-of-type {\n",
       "        vertical-align: middle;\n",
       "    }\n",
       "\n",
       "    .dataframe tbody tr th {\n",
       "        vertical-align: top;\n",
       "    }\n",
       "\n",
       "    .dataframe thead th {\n",
       "        text-align: right;\n",
       "    }\n",
       "</style>\n",
       "<table border=\"1\" class=\"dataframe\">\n",
       "  <thead>\n",
       "    <tr style=\"text-align: right;\">\n",
       "      <th></th>\n",
       "      <th>danceability</th>\n",
       "      <th>energy</th>\n",
       "      <th>key</th>\n",
       "      <th>loudness</th>\n",
       "      <th>mode</th>\n",
       "      <th>speechiness</th>\n",
       "      <th>acousticness</th>\n",
       "      <th>instrumentalness</th>\n",
       "      <th>liveness</th>\n",
       "      <th>valence</th>\n",
       "      <th>tempo</th>\n",
       "      <th>duration_ms</th>\n",
       "      <th>time_signature</th>\n",
       "    </tr>\n",
       "  </thead>\n",
       "  <tbody>\n",
       "    <tr>\n",
       "      <th>count</th>\n",
       "      <td>100.00000</td>\n",
       "      <td>100.000000</td>\n",
       "      <td>100.000000</td>\n",
       "      <td>100.000000</td>\n",
       "      <td>100.000000</td>\n",
       "      <td>100.000000</td>\n",
       "      <td>100.000000</td>\n",
       "      <td>100.000000</td>\n",
       "      <td>100.000000</td>\n",
       "      <td>100.000000</td>\n",
       "      <td>100.000000</td>\n",
       "      <td>100.000000</td>\n",
       "      <td>100.00</td>\n",
       "    </tr>\n",
       "    <tr>\n",
       "      <th>mean</th>\n",
       "      <td>0.71646</td>\n",
       "      <td>0.659060</td>\n",
       "      <td>5.330000</td>\n",
       "      <td>-5.677640</td>\n",
       "      <td>0.590000</td>\n",
       "      <td>0.115569</td>\n",
       "      <td>0.195701</td>\n",
       "      <td>0.001584</td>\n",
       "      <td>0.158302</td>\n",
       "      <td>0.484443</td>\n",
       "      <td>119.904180</td>\n",
       "      <td>205206.780000</td>\n",
       "      <td>3.98</td>\n",
       "    </tr>\n",
       "    <tr>\n",
       "      <th>std</th>\n",
       "      <td>0.13107</td>\n",
       "      <td>0.145067</td>\n",
       "      <td>3.676447</td>\n",
       "      <td>1.777577</td>\n",
       "      <td>0.494311</td>\n",
       "      <td>0.104527</td>\n",
       "      <td>0.220946</td>\n",
       "      <td>0.013449</td>\n",
       "      <td>0.111662</td>\n",
       "      <td>0.206145</td>\n",
       "      <td>28.795984</td>\n",
       "      <td>40007.893404</td>\n",
       "      <td>0.20</td>\n",
       "    </tr>\n",
       "    <tr>\n",
       "      <th>min</th>\n",
       "      <td>0.25800</td>\n",
       "      <td>0.296000</td>\n",
       "      <td>0.000000</td>\n",
       "      <td>-10.109000</td>\n",
       "      <td>0.000000</td>\n",
       "      <td>0.023200</td>\n",
       "      <td>0.000282</td>\n",
       "      <td>0.000000</td>\n",
       "      <td>0.021500</td>\n",
       "      <td>0.079600</td>\n",
       "      <td>64.934000</td>\n",
       "      <td>95467.000000</td>\n",
       "      <td>3.00</td>\n",
       "    </tr>\n",
       "    <tr>\n",
       "      <th>25%</th>\n",
       "      <td>0.63550</td>\n",
       "      <td>0.562000</td>\n",
       "      <td>1.750000</td>\n",
       "      <td>-6.650500</td>\n",
       "      <td>0.000000</td>\n",
       "      <td>0.045350</td>\n",
       "      <td>0.040225</td>\n",
       "      <td>0.000000</td>\n",
       "      <td>0.094675</td>\n",
       "      <td>0.341000</td>\n",
       "      <td>95.730750</td>\n",
       "      <td>184680.000000</td>\n",
       "      <td>4.00</td>\n",
       "    </tr>\n",
       "    <tr>\n",
       "      <th>50%</th>\n",
       "      <td>0.73300</td>\n",
       "      <td>0.678000</td>\n",
       "      <td>5.000000</td>\n",
       "      <td>-5.566500</td>\n",
       "      <td>1.000000</td>\n",
       "      <td>0.074950</td>\n",
       "      <td>0.109000</td>\n",
       "      <td>0.000000</td>\n",
       "      <td>0.118500</td>\n",
       "      <td>0.470500</td>\n",
       "      <td>120.116000</td>\n",
       "      <td>205047.500000</td>\n",
       "      <td>4.00</td>\n",
       "    </tr>\n",
       "    <tr>\n",
       "      <th>75%</th>\n",
       "      <td>0.79825</td>\n",
       "      <td>0.772250</td>\n",
       "      <td>8.250000</td>\n",
       "      <td>-4.363750</td>\n",
       "      <td>1.000000</td>\n",
       "      <td>0.137000</td>\n",
       "      <td>0.247750</td>\n",
       "      <td>0.000031</td>\n",
       "      <td>0.170750</td>\n",
       "      <td>0.641500</td>\n",
       "      <td>140.022750</td>\n",
       "      <td>221493.250000</td>\n",
       "      <td>4.00</td>\n",
       "    </tr>\n",
       "    <tr>\n",
       "      <th>max</th>\n",
       "      <td>0.96400</td>\n",
       "      <td>0.909000</td>\n",
       "      <td>11.000000</td>\n",
       "      <td>-2.384000</td>\n",
       "      <td>1.000000</td>\n",
       "      <td>0.530000</td>\n",
       "      <td>0.934000</td>\n",
       "      <td>0.134000</td>\n",
       "      <td>0.636000</td>\n",
       "      <td>0.931000</td>\n",
       "      <td>198.075000</td>\n",
       "      <td>417920.000000</td>\n",
       "      <td>5.00</td>\n",
       "    </tr>\n",
       "  </tbody>\n",
       "</table>\n",
       "</div>"
      ],
      "text/plain": [
       "       danceability      energy         key    loudness        mode  \\\n",
       "count     100.00000  100.000000  100.000000  100.000000  100.000000   \n",
       "mean        0.71646    0.659060    5.330000   -5.677640    0.590000   \n",
       "std         0.13107    0.145067    3.676447    1.777577    0.494311   \n",
       "min         0.25800    0.296000    0.000000  -10.109000    0.000000   \n",
       "25%         0.63550    0.562000    1.750000   -6.650500    0.000000   \n",
       "50%         0.73300    0.678000    5.000000   -5.566500    1.000000   \n",
       "75%         0.79825    0.772250    8.250000   -4.363750    1.000000   \n",
       "max         0.96400    0.909000   11.000000   -2.384000    1.000000   \n",
       "\n",
       "       speechiness  acousticness  instrumentalness    liveness     valence  \\\n",
       "count   100.000000    100.000000        100.000000  100.000000  100.000000   \n",
       "mean      0.115569      0.195701          0.001584    0.158302    0.484443   \n",
       "std       0.104527      0.220946          0.013449    0.111662    0.206145   \n",
       "min       0.023200      0.000282          0.000000    0.021500    0.079600   \n",
       "25%       0.045350      0.040225          0.000000    0.094675    0.341000   \n",
       "50%       0.074950      0.109000          0.000000    0.118500    0.470500   \n",
       "75%       0.137000      0.247750          0.000031    0.170750    0.641500   \n",
       "max       0.530000      0.934000          0.134000    0.636000    0.931000   \n",
       "\n",
       "            tempo    duration_ms  time_signature  \n",
       "count  100.000000     100.000000          100.00  \n",
       "mean   119.904180  205206.780000            3.98  \n",
       "std     28.795984   40007.893404            0.20  \n",
       "min     64.934000   95467.000000            3.00  \n",
       "25%     95.730750  184680.000000            4.00  \n",
       "50%    120.116000  205047.500000            4.00  \n",
       "75%    140.022750  221493.250000            4.00  \n",
       "max    198.075000  417920.000000            5.00  "
      ]
     },
     "execution_count": 4,
     "metadata": {},
     "output_type": "execute_result"
    }
   ],
   "source": [
    " data.describe()"
   ]
  },
  {
   "cell_type": "markdown",
   "id": "487d176e",
   "metadata": {},
   "source": [
    "Всего 100 песен. <br>Посмотрим, есть ли выбросы"
   ]
  },
  {
   "cell_type": "code",
   "execution_count": 5,
   "id": "56055abc",
   "metadata": {},
   "outputs": [
    {
     "name": "stdout",
     "output_type": "stream",
     "text": [
      "<class 'pandas.core.frame.DataFrame'>\n",
      "RangeIndex: 100 entries, 0 to 99\n",
      "Data columns (total 16 columns):\n",
      " #   Column            Non-Null Count  Dtype  \n",
      "---  ------            --------------  -----  \n",
      " 0   id                100 non-null    object \n",
      " 1   name              100 non-null    object \n",
      " 2   artists           100 non-null    object \n",
      " 3   danceability      100 non-null    float64\n",
      " 4   energy            100 non-null    float64\n",
      " 5   key               100 non-null    float64\n",
      " 6   loudness          100 non-null    float64\n",
      " 7   mode              100 non-null    float64\n",
      " 8   speechiness       100 non-null    float64\n",
      " 9   acousticness      100 non-null    float64\n",
      " 10  instrumentalness  100 non-null    float64\n",
      " 11  liveness          100 non-null    float64\n",
      " 12  valence           100 non-null    float64\n",
      " 13  tempo             100 non-null    float64\n",
      " 14  duration_ms       100 non-null    float64\n",
      " 15  time_signature    100 non-null    float64\n",
      "dtypes: float64(13), object(3)\n",
      "memory usage: 12.6+ KB\n"
     ]
    }
   ],
   "source": [
    "data.info()"
   ]
  },
  {
   "cell_type": "markdown",
   "id": "2c76301f",
   "metadata": {},
   "source": [
    "Создадим колонку, где миллисекунды представим ввиде минут"
   ]
  },
  {
   "cell_type": "code",
   "execution_count": 6,
   "id": "35f33806",
   "metadata": {},
   "outputs": [],
   "source": [
    "data['Duration_min'] = data['duration_ms'] / 60000"
   ]
  },
  {
   "cell_type": "markdown",
   "id": "8f178c66",
   "metadata": {},
   "source": [
    "Посмотрим графики распределения величин"
   ]
  },
  {
   "cell_type": "code",
   "execution_count": 7,
   "id": "6833a638",
   "metadata": {},
   "outputs": [
    {
     "data": {
      "image/png": "[encoded data removed]",
      "text/plain": [
       "<Figure size 864x720 with 16 Axes>"
      ]
     },
     "metadata": {
      "needs_background": "light"
     },
     "output_type": "display_data"
    }
   ],
   "source": [
    "data.hist(edgecolor = 'black', linewidth = 1.2)\n",
    "fig=plt.gcf()\n",
    "fig.set_size_inches(12, 10)\n",
    "plt.show()"
   ]
  },
  {
   "cell_type": "markdown",
   "id": "65248a4c",
   "metadata": {},
   "source": [
    "Можно заметить, что Duration_min имеет точно такой же график, как и duration_ms. Так как легче хранить переменные меньшего размера, удалим колонку duration_ms."
   ]
  },
  {
   "cell_type": "code",
   "execution_count": 8,
   "id": "80d8f777",
   "metadata": {},
   "outputs": [],
   "source": [
    "data.drop(columns = 'duration_ms', inplace = True)"
   ]
  },
  {
   "cell_type": "markdown",
   "id": "c470cfc8",
   "metadata": {},
   "source": [
    "Построим матрицу корелляций"
   ]
  },
  {
   "cell_type": "code",
   "execution_count": 9,
   "id": "3f997b9f",
   "metadata": {},
   "outputs": [
    {
     "data": {
      "image/png": "[encoded data removed]",
      "text/plain": [
       "<Figure size 864x864 with 2 Axes>"
      ]
     },
     "metadata": {
      "needs_background": "light"
     },
     "output_type": "display_data"
    }
   ],
   "source": [
    "sns.heatmap(data.corr(), annot = True,cmap = 'RdYlGn', linewidths = 0.2) #data.corr() - correlation matrix\n",
    "fig = plt.gcf()\n",
    "fig.set_size_inches(12, 12)\n",
    "plt.show()"
   ]
  },
  {
   "cell_type": "code",
   "execution_count": 10,
   "id": "227e4a22",
   "metadata": {},
   "outputs": [
    {
     "data": {
      "text/plain": [
       "[-0.42, -0.42, -0.27, -0.27, -0.25]"
      ]
     },
     "execution_count": 10,
     "metadata": {},
     "output_type": "execute_result"
    }
   ],
   "source": [
    "matr = data.corr().round(2)\n",
    "matr = np.array(matr)\n",
    "matr = sorted(matr.reshape(matr.shape[0] ** 2))\n",
    "matr[0:5]"
   ]
  },
  {
   "cell_type": "markdown",
   "id": "f2eed47e",
   "metadata": {},
   "source": [
    "Минимальные значения корреляции = -0.42 и -0.25"
   ]
  },
  {
   "cell_type": "markdown",
   "id": "64563791",
   "metadata": {},
   "source": [
    "Максимальные значения корреляции 0.73 и 0.41<br>\n",
    "Можно заметить высокую корелляцию между такими данными как **loudness** и **energy**, максимальная отрицательная корреляция **acousticness** и **energy**. "
   ]
  },
  {
   "cell_type": "markdown",
   "id": "41475c6b",
   "metadata": {},
   "source": [
    "**Посмотрим Top-10 исполнителей**"
   ]
  },
  {
   "cell_type": "code",
   "execution_count": 11,
   "id": "66cbf9a6",
   "metadata": {},
   "outputs": [
    {
     "data": {
      "text/plain": [
       "Post Malone        6\n",
       "XXXTENTACION       6\n",
       "Drake              4\n",
       "Marshmello         3\n",
       "Ed Sheeran         3\n",
       "Ariana Grande      2\n",
       "The Weeknd         2\n",
       "Imagine Dragons    2\n",
       "Migos              2\n",
       "Selena Gomez       2\n",
       "Name: artists, dtype: int64"
      ]
     },
     "execution_count": 11,
     "metadata": {},
     "output_type": "execute_result"
    }
   ],
   "source": [
    "data['artists'].value_counts().head(10)"
   ]
  },
  {
   "cell_type": "markdown",
   "id": "5b92b1fd",
   "metadata": {},
   "source": [
    "Проведем анализ переменной Dancebility: построим плотность распределения"
   ]
  },
  {
   "cell_type": "code",
   "execution_count": 12,
   "id": "f3b3d3ed",
   "metadata": {},
   "outputs": [
    {
     "data": {
      "image/png": "[encoded data removed]",
      "text/plain": [
       "<Figure size 432x288 with 1 Axes>"
      ]
     },
     "metadata": {},
     "output_type": "display_data"
    }
   ],
   "source": [
    "sns.set_style(style = 'darkgrid')\n",
    "sns.distplot(data['danceability'], hist = True, kde = True)\n",
    "plt.show()"
   ]
  },
  {
   "cell_type": "markdown",
   "id": "709f000f",
   "metadata": {},
   "source": [
    "Можно заметить, что распределение имеет нормальный вид, но чтобы сделать более детальный анализ, разделим данные на 3 класса:\n",
    "\n",
    "*   больше чем 75% - очень танцевальный трек\n",
    "*   между 50% и 74% - средне-танцевальный трек\n",
    "*   меньше 50% - нетанцевальный трек"
   ]
  },
  {
   "cell_type": "code",
   "execution_count": 13,
   "id": "0491ee9a",
   "metadata": {},
   "outputs": [],
   "source": [
    "# создадим условия \n",
    "Vd = data['danceability'] >= 0.75\n",
    "Ld = (data['danceability'] >= 0.5) & (data['danceability'] < 0.75)\n",
    "Nd = data['danceability'] < 0.5\n",
    "#создадим новую талицу Dance, где колонка Percent будет означать процент данных попавших в данную категорию\n",
    "Dance=pd.DataFrame([Vd.sum(), Ld.sum(), Nd.sum()], columns = ['percent'],\n",
    "                   index=['Very_dance', 'Regular', 'Instrumental'])"
   ]
  },
  {
   "cell_type": "code",
   "execution_count": 14,
   "id": "43053370",
   "metadata": {},
   "outputs": [
    {
     "data": {
      "text/html": [
       "<div>\n",
       "<style scoped>\n",
       "    .dataframe tbody tr th:only-of-type {\n",
       "        vertical-align: middle;\n",
       "    }\n",
       "\n",
       "    .dataframe tbody tr th {\n",
       "        vertical-align: top;\n",
       "    }\n",
       "\n",
       "    .dataframe thead th {\n",
       "        text-align: right;\n",
       "    }\n",
       "</style>\n",
       "<table border=\"1\" class=\"dataframe\">\n",
       "  <thead>\n",
       "    <tr style=\"text-align: right;\">\n",
       "      <th></th>\n",
       "      <th>percent</th>\n",
       "    </tr>\n",
       "  </thead>\n",
       "  <tbody>\n",
       "    <tr>\n",
       "      <th>Very_dance</th>\n",
       "      <td>43</td>\n",
       "    </tr>\n",
       "    <tr>\n",
       "      <th>Regular</th>\n",
       "      <td>53</td>\n",
       "    </tr>\n",
       "    <tr>\n",
       "      <th>Instrumental</th>\n",
       "      <td>4</td>\n",
       "    </tr>\n",
       "  </tbody>\n",
       "</table>\n",
       "</div>"
      ],
      "text/plain": [
       "              percent\n",
       "Very_dance         43\n",
       "Regular            53\n",
       "Instrumental        4"
      ]
     },
     "execution_count": 14,
     "metadata": {},
     "output_type": "execute_result"
    }
   ],
   "source": [
    "Dance.head()"
   ]
  },
  {
   "cell_type": "code",
   "execution_count": 15,
   "id": "185dffee",
   "metadata": {},
   "outputs": [
    {
     "data": {
      "image/png": "[encoded data removed]",
      "text/plain": [
       "<Figure size 432x288 with 1 Axes>"
      ]
     },
     "metadata": {},
     "output_type": "display_data"
    }
   ],
   "source": [
    "labels = 'Very_dance', 'Regular', 'Instrumental'\n",
    "sizes = list(Dance['percent'])\n",
    "explode = (0, 0.1, 0 )  #выделим вторую колонку, как максимальную\n",
    "\n",
    "fig1, ax1 = plt.subplots()\n",
    "ax1.pie(sizes, explode = explode, labels = labels, autopct = '%1.1f%%',\n",
    "        shadow = True, startangle = 90)\n",
    "ax1.axis('equal')\n",
    "\n",
    "plt.show()"
   ]
  },
  {
   "cell_type": "markdown",
   "id": "42e5978b",
   "metadata": {},
   "source": [
    "То же самое проделаем с Energy значением:"
   ]
  },
  {
   "cell_type": "code",
   "execution_count": 16,
   "id": "3f8901d6",
   "metadata": {},
   "outputs": [
    {
     "data": {
      "image/png": "[encoded data removed]",
      "text/plain": [
       "<Figure size 432x288 with 1 Axes>"
      ]
     },
     "metadata": {},
     "output_type": "display_data"
    }
   ],
   "source": [
    "sns.distplot(data['energy'])\n",
    "plt.show()"
   ]
  },
  {
   "cell_type": "markdown",
   "id": "34fcf4fc",
   "metadata": {},
   "source": [
    "Разделим на 3 класса:\n",
    "\n",
    "\n",
    "*   очень энергичная (>0.75)\n",
    "*   среднеэнергичная (от 0.5 до 0.75)\n",
    "*   малоэнергичная (менее 0.5)"
   ]
  },
  {
   "cell_type": "code",
   "execution_count": 17,
   "id": "a85c219e",
   "metadata": {},
   "outputs": [],
   "source": [
    "Ve = data['energy'] >= 0.75\n",
    "Re = (data['energy'] >= 0.5) & (data['energy'] < 0.75)\n",
    "Le = data['energy'] < 0.5\n",
    "Energy=pd.DataFrame([Ve.sum(), Re.sum(), Le.sum()], columns = ['percent'],\n",
    "                   index = ['Very Energy', 'Regular Energy', 'Low Energy'])"
   ]
  },
  {
   "cell_type": "code",
   "execution_count": 18,
   "id": "9a87ce96",
   "metadata": {},
   "outputs": [
    {
     "data": {
      "text/html": [
       "<div>\n",
       "<style scoped>\n",
       "    .dataframe tbody tr th:only-of-type {\n",
       "        vertical-align: middle;\n",
       "    }\n",
       "\n",
       "    .dataframe tbody tr th {\n",
       "        vertical-align: top;\n",
       "    }\n",
       "\n",
       "    .dataframe thead th {\n",
       "        text-align: right;\n",
       "    }\n",
       "</style>\n",
       "<table border=\"1\" class=\"dataframe\">\n",
       "  <thead>\n",
       "    <tr style=\"text-align: right;\">\n",
       "      <th></th>\n",
       "      <th>percent</th>\n",
       "    </tr>\n",
       "  </thead>\n",
       "  <tbody>\n",
       "    <tr>\n",
       "      <th>Very Energy</th>\n",
       "      <td>32</td>\n",
       "    </tr>\n",
       "    <tr>\n",
       "      <th>Regular Energy</th>\n",
       "      <td>55</td>\n",
       "    </tr>\n",
       "    <tr>\n",
       "      <th>Low Energy</th>\n",
       "      <td>13</td>\n",
       "    </tr>\n",
       "  </tbody>\n",
       "</table>\n",
       "</div>"
      ],
      "text/plain": [
       "                percent\n",
       "Very Energy          32\n",
       "Regular Energy       55\n",
       "Low Energy           13"
      ]
     },
     "execution_count": 18,
     "metadata": {},
     "output_type": "execute_result"
    }
   ],
   "source": [
    "Energy.head()"
   ]
  },
  {
   "cell_type": "code",
   "execution_count": 19,
   "id": "1d631eda",
   "metadata": {},
   "outputs": [
    {
     "data": {
      "image/png": "[encoded data removed]",
      "text/plain": [
       "<Figure size 432x288 with 1 Axes>"
      ]
     },
     "metadata": {},
     "output_type": "display_data"
    }
   ],
   "source": [
    "labels = 'Very Energy','Regular Energy','Low Energy'\n",
    "sizes = list(Energy['percent'])\n",
    "explode = (0, 0.1, 0 )  #выделим вторую колонку, как максимальную\n",
    "\n",
    "fig1, ax1 = plt.subplots()\n",
    "ax1.pie(sizes, explode = explode, labels = labels, autopct = '%1.1f%%',\n",
    "        shadow = True, startangle = 90)\n",
    "ax1.axis('equal')\n",
    "\n",
    "plt.show()"
   ]
  },
  {
   "cell_type": "markdown",
   "id": "3e382717",
   "metadata": {},
   "source": [
    "Добавим детальную корелляцию данных (по предыдущему анализу возьмем 'danceability','energy','valence','loudness','tempo')"
   ]
  },
  {
   "cell_type": "code",
   "execution_count": 20,
   "id": "9600f856",
   "metadata": {},
   "outputs": [
    {
     "data": {
      "image/png": "[encoded data removed]",
      "text/plain": [
       "<Figure size 432x288 with 2 Axes>"
      ]
     },
     "metadata": {},
     "output_type": "display_data"
    }
   ],
   "source": [
    "Correlation  =data[['danceability', 'energy', 'valence', 'loudness', 'tempo']]\n",
    "sns.heatmap(Correlation.corr(), annot = True,cmap = \"YlOrRd\")\n",
    "plt.show()"
   ]
  },
  {
   "cell_type": "markdown",
   "id": "e709e289",
   "metadata": {},
   "source": [
    "Данная матрица более детально показывает корреляцию между данными величинами.<br>\n",
    "Посмотрим более детальную корелляцию energy и loudness."
   ]
  },
  {
   "cell_type": "code",
   "execution_count": 49,
   "id": "a7bc47c7",
   "metadata": {},
   "outputs": [
    {
     "data": {
      "image/png": "[encoded data removed]",
      "text/plain": [
       "<Figure size 432x432 with 3 Axes>"
      ]
     },
     "metadata": {},
     "output_type": "display_data"
    }
   ],
   "source": [
    "import warnings\n",
    "warnings.filterwarnings(\"ignore\")\n",
    "\n",
    "graph = sns.jointplot(data = Correlation, y = 'energy', x = 'loudness', kind = 'reg')\n",
    "plt.show()"
   ]
  },
  {
   "cell_type": "markdown",
   "id": "a5854900",
   "metadata": {},
   "source": [
    "Выводы: можно увидеть, что чем ближе значение громкости к 0, тем более вероятно, что трек будет иметь высокий ритм."
   ]
  },
  {
   "cell_type": "markdown",
   "id": "1dc350ce",
   "metadata": {},
   "source": [
    "Посмотрим что мы можем сделать с темпом музыки. \n",
    "\n",
    "Выберем 5 основных класса по скоростям музыки:\n",
    "\n",
    "* Length: очень медленная (20 bpm)\n",
    "* Adagio:медленная и спокойная (66 to 76 bpm)\n",
    "* Andante: умеренный темп (в характере шага) (76 to 108 bpm)\n",
    "* Allegro: скорее чем andante. (110 to 168 bpm).\n",
    "* Presto: очень быстро (168 to 200 bpm)."
   ]
  },
  {
   "cell_type": "markdown",
   "id": "6e5da610",
   "metadata": {},
   "source": [
    "Cоздадим новую колонку Rhythm"
   ]
  },
  {
   "cell_type": "code",
   "execution_count": 144,
   "id": "89112480",
   "metadata": {},
   "outputs": [],
   "source": [
    "data = pd.read_csv('C:/Games/Test/top2018.csv')\n",
    "data['Rhythm'] = data['tempo']\n",
    "\n",
    "data.loc[(data['tempo'] > 168), 'Rhythm'] = 'Presto'\n",
    "data.loc[((data['tempo'] >= 110) & (data['tempo'] <= 168)), 'Rhythm'] = 'Allegro'\n",
    "data.loc[((data['tempo'] >= 76) & (data['tempo'] < 110)), 'Rhythm'] = 'Andante'\n",
    "data.loc[((data['tempo'] >= 66) & (data['tempo'] < 76)), 'Rhythm'] = 'Adagio'\n",
    "data.loc[(data['tempo'] < 66), 'Rhythm'] = 'Length'"
   ]
  },
  {
   "cell_type": "code",
   "execution_count": 145,
   "id": "92f198cc",
   "metadata": {},
   "outputs": [
    {
     "data": {
      "text/html": [
       "<div>\n",
       "<style scoped>\n",
       "    .dataframe tbody tr th:only-of-type {\n",
       "        vertical-align: middle;\n",
       "    }\n",
       "\n",
       "    .dataframe tbody tr th {\n",
       "        vertical-align: top;\n",
       "    }\n",
       "\n",
       "    .dataframe thead th {\n",
       "        text-align: right;\n",
       "    }\n",
       "</style>\n",
       "<table border=\"1\" class=\"dataframe\">\n",
       "  <thead>\n",
       "    <tr style=\"text-align: right;\">\n",
       "      <th></th>\n",
       "      <th>tempo</th>\n",
       "      <th>Rhythm</th>\n",
       "    </tr>\n",
       "  </thead>\n",
       "  <tbody>\n",
       "    <tr>\n",
       "      <th>0</th>\n",
       "      <td>77.169</td>\n",
       "      <td>Andante</td>\n",
       "    </tr>\n",
       "    <tr>\n",
       "      <th>1</th>\n",
       "      <td>75.023</td>\n",
       "      <td>Adagio</td>\n",
       "    </tr>\n",
       "    <tr>\n",
       "      <th>2</th>\n",
       "      <td>159.847</td>\n",
       "      <td>Allegro</td>\n",
       "    </tr>\n",
       "    <tr>\n",
       "      <th>3</th>\n",
       "      <td>140.124</td>\n",
       "      <td>Allegro</td>\n",
       "    </tr>\n",
       "    <tr>\n",
       "      <th>4</th>\n",
       "      <td>91.030</td>\n",
       "      <td>Andante</td>\n",
       "    </tr>\n",
       "  </tbody>\n",
       "</table>\n",
       "</div>"
      ],
      "text/plain": [
       "     tempo   Rhythm\n",
       "0   77.169  Andante\n",
       "1   75.023   Adagio\n",
       "2  159.847  Allegro\n",
       "3  140.124  Allegro\n",
       "4   91.030  Andante"
      ]
     },
     "execution_count": 145,
     "metadata": {},
     "output_type": "execute_result"
    }
   ],
   "source": [
    "data[['tempo', 'Rhythm']].head()"
   ]
  },
  {
   "cell_type": "markdown",
   "id": "425df702",
   "metadata": {},
   "source": [
    "Посмотрим распределение значений по скоростям звучания"
   ]
  },
  {
   "cell_type": "code",
   "execution_count": 146,
   "id": "1d12c4dd",
   "metadata": {},
   "outputs": [
    {
     "data": {
      "text/plain": [
       "Allegro    47\n",
       "Andante    44\n",
       "Presto      7\n",
       "Adagio      1\n",
       "Length      1\n",
       "Name: Rhythm, dtype: int64"
      ]
     },
     "execution_count": 146,
     "metadata": {},
     "output_type": "execute_result"
    }
   ],
   "source": [
    "data['Rhythm'].value_counts()"
   ]
  },
  {
   "cell_type": "markdown",
   "id": "a6796efb",
   "metadata": {},
   "source": [
    "Можно увидеть, что в топе-100 песен 2018 года мало спокойной музыки - 2, много быстрой - 46, умеренно быстрой - 44. "
   ]
  },
  {
   "cell_type": "markdown",
   "id": "0cd3a11f",
   "metadata": {},
   "source": [
    "Посмотрим **ТОП-10 танцевальных песен**"
   ]
  },
  {
   "cell_type": "code",
   "execution_count": 147,
   "id": "2825821c",
   "metadata": {},
   "outputs": [
    {
     "data": {
      "text/html": [
       "<div>\n",
       "<style scoped>\n",
       "    .dataframe tbody tr th:only-of-type {\n",
       "        vertical-align: middle;\n",
       "    }\n",
       "\n",
       "    .dataframe tbody tr th {\n",
       "        vertical-align: top;\n",
       "    }\n",
       "\n",
       "    .dataframe thead th {\n",
       "        text-align: right;\n",
       "    }\n",
       "</style>\n",
       "<table border=\"1\" class=\"dataframe\">\n",
       "  <thead>\n",
       "    <tr style=\"text-align: right;\">\n",
       "      <th></th>\n",
       "      <th>name</th>\n",
       "      <th>artists</th>\n",
       "      <th>danceability</th>\n",
       "      <th>valence</th>\n",
       "      <th>tempo</th>\n",
       "      <th>Rhythm</th>\n",
       "    </tr>\n",
       "  </thead>\n",
       "  <tbody>\n",
       "    <tr>\n",
       "      <th>91</th>\n",
       "      <td>Yes Indeed</td>\n",
       "      <td>Lil Baby</td>\n",
       "      <td>0.964</td>\n",
       "      <td>0.562</td>\n",
       "      <td>119.958</td>\n",
       "      <td>Allegro</td>\n",
       "    </tr>\n",
       "    <tr>\n",
       "      <th>55</th>\n",
       "      <td>FEFE (feat. Nicki Minaj &amp; Murda Beatz)</td>\n",
       "      <td>6ix9ine</td>\n",
       "      <td>0.931</td>\n",
       "      <td>0.376</td>\n",
       "      <td>125.978</td>\n",
       "      <td>Allegro</td>\n",
       "    </tr>\n",
       "    <tr>\n",
       "      <th>19</th>\n",
       "      <td>Look Alive (feat. Drake)</td>\n",
       "      <td>BlocBoy JB</td>\n",
       "      <td>0.922</td>\n",
       "      <td>0.595</td>\n",
       "      <td>140.022</td>\n",
       "      <td>Allegro</td>\n",
       "    </tr>\n",
       "    <tr>\n",
       "      <th>18</th>\n",
       "      <td>Moonlight</td>\n",
       "      <td>XXXTENTACION</td>\n",
       "      <td>0.921</td>\n",
       "      <td>0.711</td>\n",
       "      <td>128.009</td>\n",
       "      <td>Allegro</td>\n",
       "    </tr>\n",
       "    <tr>\n",
       "      <th>61</th>\n",
       "      <td>Nonstop</td>\n",
       "      <td>Drake</td>\n",
       "      <td>0.912</td>\n",
       "      <td>0.422</td>\n",
       "      <td>154.983</td>\n",
       "      <td>Allegro</td>\n",
       "    </tr>\n",
       "    <tr>\n",
       "      <th>89</th>\n",
       "      <td>Bella</td>\n",
       "      <td>Wolfine</td>\n",
       "      <td>0.909</td>\n",
       "      <td>0.844</td>\n",
       "      <td>94.016</td>\n",
       "      <td>Andante</td>\n",
       "    </tr>\n",
       "    <tr>\n",
       "      <th>73</th>\n",
       "      <td>Walk It Talk It</td>\n",
       "      <td>Migos</td>\n",
       "      <td>0.909</td>\n",
       "      <td>0.406</td>\n",
       "      <td>145.905</td>\n",
       "      <td>Allegro</td>\n",
       "    </tr>\n",
       "    <tr>\n",
       "      <th>82</th>\n",
       "      <td>HUMBLE.</td>\n",
       "      <td>Kendrick Lamar</td>\n",
       "      <td>0.908</td>\n",
       "      <td>0.421</td>\n",
       "      <td>150.011</td>\n",
       "      <td>Allegro</td>\n",
       "    </tr>\n",
       "    <tr>\n",
       "      <th>21</th>\n",
       "      <td>Te Bot? - Remix</td>\n",
       "      <td>Nio Garcia</td>\n",
       "      <td>0.903</td>\n",
       "      <td>0.442</td>\n",
       "      <td>96.507</td>\n",
       "      <td>Andante</td>\n",
       "    </tr>\n",
       "    <tr>\n",
       "      <th>30</th>\n",
       "      <td>Taste (feat. Offset)</td>\n",
       "      <td>Tyga</td>\n",
       "      <td>0.884</td>\n",
       "      <td>0.342</td>\n",
       "      <td>97.994</td>\n",
       "      <td>Andante</td>\n",
       "    </tr>\n",
       "  </tbody>\n",
       "</table>\n",
       "</div>"
      ],
      "text/plain": [
       "                                      name         artists  danceability  \\\n",
       "91                              Yes Indeed        Lil Baby         0.964   \n",
       "55  FEFE (feat. Nicki Minaj & Murda Beatz)         6ix9ine         0.931   \n",
       "19                Look Alive (feat. Drake)      BlocBoy JB         0.922   \n",
       "18                               Moonlight    XXXTENTACION         0.921   \n",
       "61                                 Nonstop           Drake         0.912   \n",
       "89                                   Bella         Wolfine         0.909   \n",
       "73                         Walk It Talk It           Migos         0.909   \n",
       "82                                 HUMBLE.  Kendrick Lamar         0.908   \n",
       "21                         Te Bot? - Remix      Nio Garcia         0.903   \n",
       "30                    Taste (feat. Offset)            Tyga         0.884   \n",
       "\n",
       "    valence    tempo   Rhythm  \n",
       "91    0.562  119.958  Allegro  \n",
       "55    0.376  125.978  Allegro  \n",
       "19    0.595  140.022  Allegro  \n",
       "18    0.711  128.009  Allegro  \n",
       "61    0.422  154.983  Allegro  \n",
       "89    0.844   94.016  Andante  \n",
       "73    0.406  145.905  Allegro  \n",
       "82    0.421  150.011  Allegro  \n",
       "21    0.442   96.507  Andante  \n",
       "30    0.342   97.994  Andante  "
      ]
     },
     "execution_count": 147,
     "metadata": {},
     "output_type": "execute_result"
    }
   ],
   "source": [
    "data[['name','artists', 'danceability', 'valence', 'tempo', 'Rhythm']].sort_values(by = 'danceability', ascending = False).head(10)"
   ]
  },
  {
   "cell_type": "markdown",
   "id": "449ffe66",
   "metadata": {},
   "source": [
    "Проанализируем 4 самых популярных исполнителя, чтобы сделать выводы о вкусах населения"
   ]
  },
  {
   "cell_type": "code",
   "execution_count": 148,
   "id": "f67f7c08",
   "metadata": {},
   "outputs": [
    {
     "data": {
      "text/plain": [
       "Post Malone     6\n",
       "XXXTENTACION    6\n",
       "Drake           4\n",
       "Marshmello      3\n",
       "Name: artists, dtype: int64"
      ]
     },
     "execution_count": 148,
     "metadata": {},
     "output_type": "execute_result"
    }
   ],
   "source": [
    "data['artists'].value_counts().head(4)"
   ]
  },
  {
   "cell_type": "markdown",
   "id": "3558734a",
   "metadata": {},
   "source": [
    "Посмотрим все песни исполнителя XXXTENTACION"
   ]
  },
  {
   "cell_type": "code",
   "execution_count": 149,
   "id": "97eb779a",
   "metadata": {},
   "outputs": [
    {
     "data": {
      "text/html": [
       "<div>\n",
       "<style scoped>\n",
       "    .dataframe tbody tr th:only-of-type {\n",
       "        vertical-align: middle;\n",
       "    }\n",
       "\n",
       "    .dataframe tbody tr th {\n",
       "        vertical-align: top;\n",
       "    }\n",
       "\n",
       "    .dataframe thead th {\n",
       "        text-align: right;\n",
       "    }\n",
       "</style>\n",
       "<table border=\"1\" class=\"dataframe\">\n",
       "  <thead>\n",
       "    <tr style=\"text-align: right;\">\n",
       "      <th></th>\n",
       "      <th>name</th>\n",
       "      <th>danceability</th>\n",
       "      <th>energy</th>\n",
       "      <th>loudness</th>\n",
       "      <th>valence</th>\n",
       "      <th>tempo</th>\n",
       "      <th>Rhythm</th>\n",
       "    </tr>\n",
       "  </thead>\n",
       "  <tbody>\n",
       "    <tr>\n",
       "      <th>1</th>\n",
       "      <td>SAD!</td>\n",
       "      <td>0.740</td>\n",
       "      <td>0.613</td>\n",
       "      <td>-4.880</td>\n",
       "      <td>0.473</td>\n",
       "      <td>75.023</td>\n",
       "      <td>Adagio</td>\n",
       "    </tr>\n",
       "    <tr>\n",
       "      <th>18</th>\n",
       "      <td>Moonlight</td>\n",
       "      <td>0.921</td>\n",
       "      <td>0.537</td>\n",
       "      <td>-5.723</td>\n",
       "      <td>0.711</td>\n",
       "      <td>128.009</td>\n",
       "      <td>Allegro</td>\n",
       "    </tr>\n",
       "    <tr>\n",
       "      <th>28</th>\n",
       "      <td>Jocelyn Flores</td>\n",
       "      <td>0.872</td>\n",
       "      <td>0.391</td>\n",
       "      <td>-9.144</td>\n",
       "      <td>0.437</td>\n",
       "      <td>134.021</td>\n",
       "      <td>Allegro</td>\n",
       "    </tr>\n",
       "    <tr>\n",
       "      <th>38</th>\n",
       "      <td>changes</td>\n",
       "      <td>0.669</td>\n",
       "      <td>0.308</td>\n",
       "      <td>-10.068</td>\n",
       "      <td>0.520</td>\n",
       "      <td>64.934</td>\n",
       "      <td>Length</td>\n",
       "    </tr>\n",
       "    <tr>\n",
       "      <th>62</th>\n",
       "      <td>Fuck Love (feat. Trippie Redd)</td>\n",
       "      <td>0.797</td>\n",
       "      <td>0.533</td>\n",
       "      <td>-9.740</td>\n",
       "      <td>0.329</td>\n",
       "      <td>131.036</td>\n",
       "      <td>Allegro</td>\n",
       "    </tr>\n",
       "    <tr>\n",
       "      <th>94</th>\n",
       "      <td>Everybody Dies In Their Nightmares</td>\n",
       "      <td>0.734</td>\n",
       "      <td>0.570</td>\n",
       "      <td>-7.066</td>\n",
       "      <td>0.689</td>\n",
       "      <td>129.953</td>\n",
       "      <td>Allegro</td>\n",
       "    </tr>\n",
       "  </tbody>\n",
       "</table>\n",
       "</div>"
      ],
      "text/plain": [
       "                                  name  danceability  energy  loudness  \\\n",
       "1                                 SAD!         0.740   0.613    -4.880   \n",
       "18                           Moonlight         0.921   0.537    -5.723   \n",
       "28                      Jocelyn Flores         0.872   0.391    -9.144   \n",
       "38                             changes         0.669   0.308   -10.068   \n",
       "62      Fuck Love (feat. Trippie Redd)         0.797   0.533    -9.740   \n",
       "94  Everybody Dies In Their Nightmares         0.734   0.570    -7.066   \n",
       "\n",
       "    valence    tempo   Rhythm  \n",
       "1     0.473   75.023   Adagio  \n",
       "18    0.711  128.009  Allegro  \n",
       "28    0.437  134.021  Allegro  \n",
       "38    0.520   64.934   Length  \n",
       "62    0.329  131.036  Allegro  \n",
       "94    0.689  129.953  Allegro  "
      ]
     },
     "execution_count": 149,
     "metadata": {},
     "output_type": "execute_result"
    }
   ],
   "source": [
    "XXXTENT = data[data['artists'] == 'XXXTENTACION']\n",
    "XXXTENT[['name', 'danceability', 'energy', 'loudness', 'valence', 'tempo', 'Rhythm']]"
   ]
  },
  {
   "cell_type": "markdown",
   "id": "51eba05e",
   "metadata": {},
   "source": [
    "Можно заметить, что песнях XXXTENTACION  много ритма Allegro, поэтому высокий уровень танцевальности, скорее всего, исполнитель записывает  хип-хоп. Действительно, если проверить, XXXTENTACION - американский рэпер. "
   ]
  },
  {
   "cell_type": "markdown",
   "id": "35029966",
   "metadata": {},
   "source": [
    "Посмотрим исполнителя Post Malone"
   ]
  },
  {
   "cell_type": "code",
   "execution_count": 150,
   "id": "035ab043",
   "metadata": {},
   "outputs": [
    {
     "data": {
      "text/html": [
       "<div>\n",
       "<style scoped>\n",
       "    .dataframe tbody tr th:only-of-type {\n",
       "        vertical-align: middle;\n",
       "    }\n",
       "\n",
       "    .dataframe tbody tr th {\n",
       "        vertical-align: top;\n",
       "    }\n",
       "\n",
       "    .dataframe thead th {\n",
       "        text-align: right;\n",
       "    }\n",
       "</style>\n",
       "<table border=\"1\" class=\"dataframe\">\n",
       "  <thead>\n",
       "    <tr style=\"text-align: right;\">\n",
       "      <th></th>\n",
       "      <th>name</th>\n",
       "      <th>danceability</th>\n",
       "      <th>energy</th>\n",
       "      <th>loudness</th>\n",
       "      <th>valence</th>\n",
       "      <th>tempo</th>\n",
       "      <th>Rhythm</th>\n",
       "    </tr>\n",
       "  </thead>\n",
       "  <tbody>\n",
       "    <tr>\n",
       "      <th>2</th>\n",
       "      <td>rockstar (feat. 21 Savage)</td>\n",
       "      <td>0.587</td>\n",
       "      <td>0.535</td>\n",
       "      <td>-6.090</td>\n",
       "      <td>0.140</td>\n",
       "      <td>159.847</td>\n",
       "      <td>Allegro</td>\n",
       "    </tr>\n",
       "    <tr>\n",
       "      <th>3</th>\n",
       "      <td>Psycho (feat. Ty Dolla $ign)</td>\n",
       "      <td>0.739</td>\n",
       "      <td>0.559</td>\n",
       "      <td>-8.011</td>\n",
       "      <td>0.439</td>\n",
       "      <td>140.124</td>\n",
       "      <td>Allegro</td>\n",
       "    </tr>\n",
       "    <tr>\n",
       "      <th>5</th>\n",
       "      <td>Better Now</td>\n",
       "      <td>0.680</td>\n",
       "      <td>0.563</td>\n",
       "      <td>-5.843</td>\n",
       "      <td>0.374</td>\n",
       "      <td>145.028</td>\n",
       "      <td>Allegro</td>\n",
       "    </tr>\n",
       "    <tr>\n",
       "      <th>32</th>\n",
       "      <td>I Fall Apart</td>\n",
       "      <td>0.556</td>\n",
       "      <td>0.538</td>\n",
       "      <td>-5.408</td>\n",
       "      <td>0.291</td>\n",
       "      <td>143.950</td>\n",
       "      <td>Allegro</td>\n",
       "    </tr>\n",
       "    <tr>\n",
       "      <th>75</th>\n",
       "      <td>Candy Paint</td>\n",
       "      <td>0.670</td>\n",
       "      <td>0.654</td>\n",
       "      <td>-5.944</td>\n",
       "      <td>0.438</td>\n",
       "      <td>180.024</td>\n",
       "      <td>Presto</td>\n",
       "    </tr>\n",
       "    <tr>\n",
       "      <th>76</th>\n",
       "      <td>Congratulations</td>\n",
       "      <td>0.630</td>\n",
       "      <td>0.804</td>\n",
       "      <td>-4.183</td>\n",
       "      <td>0.492</td>\n",
       "      <td>123.146</td>\n",
       "      <td>Allegro</td>\n",
       "    </tr>\n",
       "  </tbody>\n",
       "</table>\n",
       "</div>"
      ],
      "text/plain": [
       "                            name  danceability  energy  loudness  valence  \\\n",
       "2     rockstar (feat. 21 Savage)         0.587   0.535    -6.090    0.140   \n",
       "3   Psycho (feat. Ty Dolla $ign)         0.739   0.559    -8.011    0.439   \n",
       "5                     Better Now         0.680   0.563    -5.843    0.374   \n",
       "32                  I Fall Apart         0.556   0.538    -5.408    0.291   \n",
       "75                   Candy Paint         0.670   0.654    -5.944    0.438   \n",
       "76               Congratulations         0.630   0.804    -4.183    0.492   \n",
       "\n",
       "      tempo   Rhythm  \n",
       "2   159.847  Allegro  \n",
       "3   140.124  Allegro  \n",
       "5   145.028  Allegro  \n",
       "32  143.950  Allegro  \n",
       "75  180.024   Presto  \n",
       "76  123.146  Allegro  "
      ]
     },
     "execution_count": 150,
     "metadata": {},
     "output_type": "execute_result"
    }
   ],
   "source": [
    "PMalone = data[data['artists'] == 'Post Malone']\n",
    "PMalone[['name', 'danceability', 'energy', 'loudness', 'valence', 'tempo', 'Rhythm']]"
   ]
  },
  {
   "cell_type": "markdown",
   "id": "86509dda",
   "metadata": {},
   "source": [
    "Можно сделать вывод, что Post Malone также записывает быструю музыку Allegro, но танцевальных его/ее песен ниже, чем у XXXTENTACION. Смотрим  в википедию, и оказывается, данный исполнитель тоже рэпер. "
   ]
  },
  {
   "cell_type": "markdown",
   "id": "04441642",
   "metadata": {},
   "source": [
    "**Обработка колонки Keys**"
   ]
  },
  {
   "cell_type": "code",
   "execution_count": 125,
   "id": "e8016182",
   "metadata": {},
   "outputs": [],
   "source": [
    "data.key = data.key.map({0: 'C', 1: 'C#', 2: 'D', 3: 'D#', 4: 'E', 5: 'F', 6: 'F#', 7: 'G', 8: 'G#', 9: 'A', 10: 'A#', 11: 'B'})"
   ]
  },
  {
   "cell_type": "code",
   "execution_count": 126,
   "id": "8518b0d4",
   "metadata": {},
   "outputs": [
    {
     "data": {
      "text/plain": [
       "0     G\n",
       "1    G#\n",
       "2     F\n",
       "3    G#\n",
       "4    C#\n",
       "Name: key, dtype: object"
      ]
     },
     "execution_count": 126,
     "metadata": {},
     "output_type": "execute_result"
    }
   ],
   "source": [
    "data.key.head()"
   ]
  },
  {
   "cell_type": "markdown",
   "id": "6ae462bd",
   "metadata": {},
   "source": [
    "Посмотрим самые используемые высотные классы"
   ]
  },
  {
   "cell_type": "code",
   "execution_count": 127,
   "id": "a8c8ba7b",
   "metadata": {},
   "outputs": [
    {
     "data": {
      "image/png": "[encoded data removed]",
      "text/plain": [
       "<Figure size 432x288 with 1 Axes>"
      ]
     },
     "metadata": {},
     "output_type": "display_data"
    }
   ],
   "source": [
    "sns.set_style(style = 'darkgrid')\n",
    "keys = data['key'].value_counts()\n",
    "key_DF = pd.DataFrame(keys)\n",
    "sns.barplot(x = key_DF.key, y = key_DF.index, palette = \"viridis\")\n",
    "plt.title('Popular keys')\n",
    "plt.show()"
   ]
  },
  {
   "cell_type": "markdown",
   "id": "d13906fa",
   "metadata": {},
   "source": [
    "Посмотрим самые танцевальные треки по высотным значениям"
   ]
  },
  {
   "cell_type": "code",
   "execution_count": 128,
   "id": "80cf4433",
   "metadata": {},
   "outputs": [
    {
     "data": {
      "text/html": [
       "<div>\n",
       "<style scoped>\n",
       "    .dataframe tbody tr th:only-of-type {\n",
       "        vertical-align: middle;\n",
       "    }\n",
       "\n",
       "    .dataframe tbody tr th {\n",
       "        vertical-align: top;\n",
       "    }\n",
       "\n",
       "    .dataframe thead th {\n",
       "        text-align: right;\n",
       "    }\n",
       "</style>\n",
       "<table border=\"1\" class=\"dataframe\">\n",
       "  <thead>\n",
       "    <tr style=\"text-align: right;\">\n",
       "      <th></th>\n",
       "      <th>danceability</th>\n",
       "      <th>energy</th>\n",
       "      <th>valence</th>\n",
       "    </tr>\n",
       "    <tr>\n",
       "      <th>key</th>\n",
       "      <th></th>\n",
       "      <th></th>\n",
       "      <th></th>\n",
       "    </tr>\n",
       "  </thead>\n",
       "  <tbody>\n",
       "    <tr>\n",
       "      <th>G</th>\n",
       "      <td>0.764167</td>\n",
       "      <td>0.581000</td>\n",
       "      <td>0.427833</td>\n",
       "    </tr>\n",
       "    <tr>\n",
       "      <th>C#</th>\n",
       "      <td>0.762000</td>\n",
       "      <td>0.695800</td>\n",
       "      <td>0.570533</td>\n",
       "    </tr>\n",
       "    <tr>\n",
       "      <th>A</th>\n",
       "      <td>0.760300</td>\n",
       "      <td>0.680000</td>\n",
       "      <td>0.563600</td>\n",
       "    </tr>\n",
       "    <tr>\n",
       "      <th>A#</th>\n",
       "      <td>0.740800</td>\n",
       "      <td>0.663000</td>\n",
       "      <td>0.501600</td>\n",
       "    </tr>\n",
       "    <tr>\n",
       "      <th>C</th>\n",
       "      <td>0.735400</td>\n",
       "      <td>0.679600</td>\n",
       "      <td>0.469300</td>\n",
       "    </tr>\n",
       "    <tr>\n",
       "      <th>D#</th>\n",
       "      <td>0.721500</td>\n",
       "      <td>0.669000</td>\n",
       "      <td>0.485150</td>\n",
       "    </tr>\n",
       "    <tr>\n",
       "      <th>F</th>\n",
       "      <td>0.716400</td>\n",
       "      <td>0.631200</td>\n",
       "      <td>0.527800</td>\n",
       "    </tr>\n",
       "    <tr>\n",
       "      <th>B</th>\n",
       "      <td>0.702000</td>\n",
       "      <td>0.623100</td>\n",
       "      <td>0.423670</td>\n",
       "    </tr>\n",
       "    <tr>\n",
       "      <th>D</th>\n",
       "      <td>0.701571</td>\n",
       "      <td>0.698857</td>\n",
       "      <td>0.373714</td>\n",
       "    </tr>\n",
       "    <tr>\n",
       "      <th>G#</th>\n",
       "      <td>0.682273</td>\n",
       "      <td>0.616818</td>\n",
       "      <td>0.512545</td>\n",
       "    </tr>\n",
       "    <tr>\n",
       "      <th>F#</th>\n",
       "      <td>0.636857</td>\n",
       "      <td>0.713857</td>\n",
       "      <td>0.370429</td>\n",
       "    </tr>\n",
       "    <tr>\n",
       "      <th>E</th>\n",
       "      <td>0.605200</td>\n",
       "      <td>0.635800</td>\n",
       "      <td>0.436000</td>\n",
       "    </tr>\n",
       "  </tbody>\n",
       "</table>\n",
       "</div>"
      ],
      "text/plain": [
       "     danceability    energy   valence\n",
       "key                                  \n",
       "G        0.764167  0.581000  0.427833\n",
       "C#       0.762000  0.695800  0.570533\n",
       "A        0.760300  0.680000  0.563600\n",
       "A#       0.740800  0.663000  0.501600\n",
       "C        0.735400  0.679600  0.469300\n",
       "D#       0.721500  0.669000  0.485150\n",
       "F        0.716400  0.631200  0.527800\n",
       "B        0.702000  0.623100  0.423670\n",
       "D        0.701571  0.698857  0.373714\n",
       "G#       0.682273  0.616818  0.512545\n",
       "F#       0.636857  0.713857  0.370429\n",
       "E        0.605200  0.635800  0.436000"
      ]
     },
     "execution_count": 128,
     "metadata": {},
     "output_type": "execute_result"
    }
   ],
   "source": [
    "data[['danceability', 'energy', 'valence', 'key']].groupby(by = 'key').mean().sort_values(by = 'danceability', ascending = False)"
   ]
  },
  {
   "cell_type": "markdown",
   "id": "6985c20b",
   "metadata": {},
   "source": [
    "Можно увидеть что самые танцевальные треки имеют значение G и C#."
   ]
  },
  {
   "cell_type": "code",
   "execution_count": 130,
   "id": "75c51982",
   "metadata": {},
   "outputs": [
    {
     "data": {
      "text/html": [
       "<div>\n",
       "<style scoped>\n",
       "    .dataframe tbody tr th:only-of-type {\n",
       "        vertical-align: middle;\n",
       "    }\n",
       "\n",
       "    .dataframe tbody tr th {\n",
       "        vertical-align: top;\n",
       "    }\n",
       "\n",
       "    .dataframe thead th {\n",
       "        text-align: right;\n",
       "    }\n",
       "</style>\n",
       "<table border=\"1\" class=\"dataframe\">\n",
       "  <thead>\n",
       "    <tr style=\"text-align: right;\">\n",
       "      <th></th>\n",
       "      <th>danceability</th>\n",
       "      <th>energy</th>\n",
       "      <th>valence</th>\n",
       "    </tr>\n",
       "    <tr>\n",
       "      <th>key</th>\n",
       "      <th></th>\n",
       "      <th></th>\n",
       "      <th></th>\n",
       "    </tr>\n",
       "  </thead>\n",
       "  <tbody>\n",
       "    <tr>\n",
       "      <th>F#</th>\n",
       "      <td>0.636857</td>\n",
       "      <td>0.713857</td>\n",
       "      <td>0.370429</td>\n",
       "    </tr>\n",
       "    <tr>\n",
       "      <th>D</th>\n",
       "      <td>0.701571</td>\n",
       "      <td>0.698857</td>\n",
       "      <td>0.373714</td>\n",
       "    </tr>\n",
       "    <tr>\n",
       "      <th>C#</th>\n",
       "      <td>0.762000</td>\n",
       "      <td>0.695800</td>\n",
       "      <td>0.570533</td>\n",
       "    </tr>\n",
       "    <tr>\n",
       "      <th>A</th>\n",
       "      <td>0.760300</td>\n",
       "      <td>0.680000</td>\n",
       "      <td>0.563600</td>\n",
       "    </tr>\n",
       "    <tr>\n",
       "      <th>C</th>\n",
       "      <td>0.735400</td>\n",
       "      <td>0.679600</td>\n",
       "      <td>0.469300</td>\n",
       "    </tr>\n",
       "    <tr>\n",
       "      <th>D#</th>\n",
       "      <td>0.721500</td>\n",
       "      <td>0.669000</td>\n",
       "      <td>0.485150</td>\n",
       "    </tr>\n",
       "    <tr>\n",
       "      <th>A#</th>\n",
       "      <td>0.740800</td>\n",
       "      <td>0.663000</td>\n",
       "      <td>0.501600</td>\n",
       "    </tr>\n",
       "    <tr>\n",
       "      <th>E</th>\n",
       "      <td>0.605200</td>\n",
       "      <td>0.635800</td>\n",
       "      <td>0.436000</td>\n",
       "    </tr>\n",
       "    <tr>\n",
       "      <th>F</th>\n",
       "      <td>0.716400</td>\n",
       "      <td>0.631200</td>\n",
       "      <td>0.527800</td>\n",
       "    </tr>\n",
       "    <tr>\n",
       "      <th>B</th>\n",
       "      <td>0.702000</td>\n",
       "      <td>0.623100</td>\n",
       "      <td>0.423670</td>\n",
       "    </tr>\n",
       "    <tr>\n",
       "      <th>G#</th>\n",
       "      <td>0.682273</td>\n",
       "      <td>0.616818</td>\n",
       "      <td>0.512545</td>\n",
       "    </tr>\n",
       "    <tr>\n",
       "      <th>G</th>\n",
       "      <td>0.764167</td>\n",
       "      <td>0.581000</td>\n",
       "      <td>0.427833</td>\n",
       "    </tr>\n",
       "  </tbody>\n",
       "</table>\n",
       "</div>"
      ],
      "text/plain": [
       "     danceability    energy   valence\n",
       "key                                  \n",
       "F#       0.636857  0.713857  0.370429\n",
       "D        0.701571  0.698857  0.373714\n",
       "C#       0.762000  0.695800  0.570533\n",
       "A        0.760300  0.680000  0.563600\n",
       "C        0.735400  0.679600  0.469300\n",
       "D#       0.721500  0.669000  0.485150\n",
       "A#       0.740800  0.663000  0.501600\n",
       "E        0.605200  0.635800  0.436000\n",
       "F        0.716400  0.631200  0.527800\n",
       "B        0.702000  0.623100  0.423670\n",
       "G#       0.682273  0.616818  0.512545\n",
       "G        0.764167  0.581000  0.427833"
      ]
     },
     "execution_count": 130,
     "metadata": {},
     "output_type": "execute_result"
    }
   ],
   "source": [
    "data[['danceability', 'energy', 'valence', 'key']].groupby(by = 'key').mean().sort_values(by = 'energy',ascending = False)"
   ]
  },
  {
   "cell_type": "markdown",
   "id": "a449ff1a",
   "metadata": {},
   "source": [
    "По энергичности лидируют такие значения, как F#, D, C#."
   ]
  },
  {
   "cell_type": "markdown",
   "id": "4715138d",
   "metadata": {},
   "source": [
    "Выводы:\n",
    "По исходной базе данных можно сделать вывод, что есть сильная корелляция между значением energy и noise, с другой стороны, можно заметить, что основная причина, почему люди полюбили эти песни, связана со скоростью исполнения (основные tempo \"allegro\" и \"andante\", которые являются характеристиками жанров хип-хопа, регги, поп и рэп ).\n"
   ]
  }
 ],
 "metadata": {
  "kernelspec": {
   "display_name": "Python 3 (ipykernel)",
   "language": "python",
   "name": "python3"
  },
  "language_info": {
   "codemirror_mode": {
    "name": "ipython",
    "version": 3
   },
   "file_extension": ".py",
   "mimetype": "text/x-python",
   "name": "python",
   "nbconvert_exporter": "python",
   "pygments_lexer": "ipython3",
   "version": "3.9.7"
  }
 },
 "nbformat": 4,
 "nbformat_minor": 5
}
